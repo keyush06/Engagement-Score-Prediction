{
 "cells": [
  {
   "cell_type": "code",
   "execution_count": 1,
   "metadata": {},
   "outputs": [
    {
     "data": {
      "text/plain": [
       "True"
      ]
     },
     "execution_count": 1,
     "metadata": {},
     "output_type": "execute_result"
    }
   ],
   "source": [
    "#Python >= 3.5 version is required \n",
    "import sys\n",
    "assert sys.version_info>=(3,5)\n",
    "\n",
    "##We will be using Sklearn for our project and hence we would need a version >=0.20\n",
    "import sklearn\n",
    "sklearn.__version__>=\"0.20\""
   ]
  },
  {
   "cell_type": "code",
   "execution_count": 2,
   "metadata": {},
   "outputs": [],
   "source": [
    "##We mute the warnings\n",
    "import warnings\n",
    "warnings.filterwarnings('always')\n",
    "warnings.filterwarnings('ignore')"
   ]
  },
  {
   "cell_type": "markdown",
   "metadata": {},
   "source": [
    "### 1: Importing the Relevant Libraries"
   ]
  },
  {
   "cell_type": "code",
   "execution_count": 26,
   "metadata": {},
   "outputs": [],
   "source": [
    "import matplotlib as mpl\n",
    "import matplotlib.pyplot as plt\n",
    "import pandas as pd\n",
    "import numpy as np\n",
    "import seaborn as sns\n",
    "%matplotlib inline\n",
    "mpl.rc('axes',labelsize=14)\n",
    "mpl.rc('xtick',labelsize=20)\n",
    "mpl.rc('ytick',labelsize=20)\n",
    "\n",
    "from sklearn.preprocessing import OneHotEncoder,LabelEncoder\n",
    "\n",
    "from sklearn.model_selection import train_test_split\n",
    "from sklearn.linear_model import LinearRegression,Ridge,Lasso\n",
    "from sklearn.tree import DecisionTreeRegressor\n",
    "from sklearn.ensemble import RandomForestRegressor\n",
    "from sklearn.neighbors import KNeighborsRegressor\n",
    "from sklearn.preprocessing import PolynomialFeatures, StandardScaler\n",
    "from sklearn.metrics import r2_score\n",
    "\n",
    "from sklearn.model_selection import KFold, cross_val_predict,RepeatedKFold,cross_val_score,GridSearchCV\n",
    "from sklearn.pipeline import Pipeline"
   ]
  },
  {
   "cell_type": "markdown",
   "metadata": {},
   "source": [
    "### 2. Take a Quick Look at the Data Structure"
   ]
  },
  {
   "cell_type": "code",
   "execution_count": 40,
   "metadata": {},
   "outputs": [
    {
     "name": "stdout",
     "output_type": "stream",
     "text": [
      "The number of rows in the training set is 89197 and the number of columns is 10\n",
      "The number of rows in the test set which will be our hold out set is 11121 and the number of columns is 9\n"
     ]
    }
   ],
   "source": [
    "train = pd.read_csv(r'C:\\Users\\hp\\Python\\Jupyter files\\Jobs Test_Interviews Answers\\Analytics Vidhya Jobathon\\Jobathon AV Feb-22 (ML Assignment)\\trainData.csv')\n",
    "test = pd.read_csv(r'C:\\Users\\hp\\Python\\Jupyter files\\Jobs Test_Interviews Answers\\Analytics Vidhya Jobathon\\Jobathon AV Feb-22 (ML Assignment)\\testData.csv')\n",
    "                   \n",
    "print(f'The number of rows in the training set is {train.shape[0]} and the number of columns is {train.shape[1]}')\n",
    "print(f'The number of rows in the test set which will be our hold out set is {test.shape[0]} and the number of columns is {test.shape[1]}')"
   ]
  },
  {
   "cell_type": "code",
   "execution_count": 9,
   "metadata": {},
   "outputs": [
    {
     "data": {
      "text/html": [
       "<div>\n",
       "<style scoped>\n",
       "    .dataframe tbody tr th:only-of-type {\n",
       "        vertical-align: middle;\n",
       "    }\n",
       "\n",
       "    .dataframe tbody tr th {\n",
       "        vertical-align: top;\n",
       "    }\n",
       "\n",
       "    .dataframe thead th {\n",
       "        text-align: right;\n",
       "    }\n",
       "</style>\n",
       "<table border=\"1\" class=\"dataframe\">\n",
       "  <thead>\n",
       "    <tr style=\"text-align: right;\">\n",
       "      <th></th>\n",
       "      <th>row_id</th>\n",
       "      <th>user_id</th>\n",
       "      <th>category_id</th>\n",
       "      <th>video_id</th>\n",
       "      <th>age</th>\n",
       "      <th>gender</th>\n",
       "      <th>profession</th>\n",
       "      <th>followers</th>\n",
       "      <th>views</th>\n",
       "      <th>engagement_score</th>\n",
       "    </tr>\n",
       "  </thead>\n",
       "  <tbody>\n",
       "    <tr>\n",
       "      <th>0</th>\n",
       "      <td>1</td>\n",
       "      <td>19990</td>\n",
       "      <td>37</td>\n",
       "      <td>128</td>\n",
       "      <td>24</td>\n",
       "      <td>Male</td>\n",
       "      <td>Student</td>\n",
       "      <td>180</td>\n",
       "      <td>1000</td>\n",
       "      <td>4.33</td>\n",
       "    </tr>\n",
       "    <tr>\n",
       "      <th>1</th>\n",
       "      <td>2</td>\n",
       "      <td>5304</td>\n",
       "      <td>32</td>\n",
       "      <td>132</td>\n",
       "      <td>14</td>\n",
       "      <td>Female</td>\n",
       "      <td>Student</td>\n",
       "      <td>330</td>\n",
       "      <td>714</td>\n",
       "      <td>1.79</td>\n",
       "    </tr>\n",
       "    <tr>\n",
       "      <th>2</th>\n",
       "      <td>3</td>\n",
       "      <td>1840</td>\n",
       "      <td>12</td>\n",
       "      <td>24</td>\n",
       "      <td>19</td>\n",
       "      <td>Male</td>\n",
       "      <td>Student</td>\n",
       "      <td>180</td>\n",
       "      <td>138</td>\n",
       "      <td>4.35</td>\n",
       "    </tr>\n",
       "    <tr>\n",
       "      <th>3</th>\n",
       "      <td>4</td>\n",
       "      <td>12597</td>\n",
       "      <td>23</td>\n",
       "      <td>112</td>\n",
       "      <td>19</td>\n",
       "      <td>Male</td>\n",
       "      <td>Student</td>\n",
       "      <td>220</td>\n",
       "      <td>613</td>\n",
       "      <td>3.77</td>\n",
       "    </tr>\n",
       "    <tr>\n",
       "      <th>4</th>\n",
       "      <td>5</td>\n",
       "      <td>13626</td>\n",
       "      <td>23</td>\n",
       "      <td>112</td>\n",
       "      <td>27</td>\n",
       "      <td>Male</td>\n",
       "      <td>Working Professional</td>\n",
       "      <td>220</td>\n",
       "      <td>613</td>\n",
       "      <td>3.13</td>\n",
       "    </tr>\n",
       "  </tbody>\n",
       "</table>\n",
       "</div>"
      ],
      "text/plain": [
       "   row_id  user_id  category_id  video_id  age  gender            profession  \\\n",
       "0       1    19990           37       128   24    Male               Student   \n",
       "1       2     5304           32       132   14  Female               Student   \n",
       "2       3     1840           12        24   19    Male               Student   \n",
       "3       4    12597           23       112   19    Male               Student   \n",
       "4       5    13626           23       112   27    Male  Working Professional   \n",
       "\n",
       "   followers  views  engagement_score  \n",
       "0        180   1000              4.33  \n",
       "1        330    714              1.79  \n",
       "2        180    138              4.35  \n",
       "3        220    613              3.77  \n",
       "4        220    613              3.13  "
      ]
     },
     "execution_count": 9,
     "metadata": {},
     "output_type": "execute_result"
    }
   ],
   "source": [
    "train.head()"
   ]
  },
  {
   "cell_type": "markdown",
   "metadata": {},
   "source": [
    "__We check the porportion of null values in each of the columns followed by the data types of the different columns__"
   ]
  },
  {
   "cell_type": "code",
   "execution_count": 10,
   "metadata": {},
   "outputs": [
    {
     "name": "stdout",
     "output_type": "stream",
     "text": [
      "row_id              0\n",
      "user_id             0\n",
      "category_id         0\n",
      "video_id            0\n",
      "age                 0\n",
      "gender              0\n",
      "profession          0\n",
      "followers           0\n",
      "views               0\n",
      "engagement_score    0\n",
      "dtype: int64\n",
      "--------------------------------------------------------------------------------\n",
      "row_id         0\n",
      "user_id        0\n",
      "category_id    0\n",
      "video_id       0\n",
      "age            0\n",
      "gender         0\n",
      "profession     0\n",
      "followers      0\n",
      "views          0\n",
      "dtype: int64\n"
     ]
    }
   ],
   "source": [
    "print(train.isnull().sum())\n",
    "print('-'*80)\n",
    "print(test.isnull().sum())"
   ]
  },
  {
   "cell_type": "code",
   "execution_count": 25,
   "metadata": {},
   "outputs": [
    {
     "data": {
      "text/plain": [
       "True"
      ]
     },
     "execution_count": 25,
     "metadata": {},
     "output_type": "execute_result"
    }
   ],
   "source": [
    "(train.groupby('video_id').mean()['views']%1>0).any()== True\n",
    "##Hence it means thta there are video Ids which have "
   ]
  },
  {
   "cell_type": "code",
   "execution_count": 27,
   "metadata": {},
   "outputs": [],
   "source": [
    "cat_cols=train.dtypes[train.dtypes==np.object]\n",
    "num_cols=train.select_dtypes(exclude='object')"
   ]
  },
  {
   "cell_type": "code",
   "execution_count": 28,
   "metadata": {},
   "outputs": [
    {
     "data": {
      "text/plain": [
       "Index(['gender', 'profession'], dtype='object')"
      ]
     },
     "execution_count": 28,
     "metadata": {},
     "output_type": "execute_result"
    }
   ],
   "source": [
    "cat_cols.index"
   ]
  },
  {
   "cell_type": "code",
   "execution_count": 29,
   "metadata": {},
   "outputs": [
    {
     "data": {
      "text/plain": [
       "Index(['row_id', 'user_id', 'category_id', 'video_id', 'age', 'followers',\n",
       "       'views', 'engagement_score'],\n",
       "      dtype='object')"
      ]
     },
     "execution_count": 29,
     "metadata": {},
     "output_type": "execute_result"
    }
   ],
   "source": [
    "num_cols.columns"
   ]
  },
  {
   "cell_type": "markdown",
   "metadata": {},
   "source": [
    "__a) Hence we observe that we do not have missing values in our training as well as the hold out set.__\n",
    "\n",
    "__b) Secondly, we have segregated the categorical columns and the numeric columns for further analysis. We note that there are only two string categoricals in our training set namely `\"gender\" and \"profession\".`__"
   ]
  },
  {
   "cell_type": "code",
   "execution_count": 30,
   "metadata": {},
   "outputs": [
    {
     "name": "stdout",
     "output_type": "stream",
     "text": [
      "<class 'pandas.core.frame.DataFrame'>\n",
      "RangeIndex: 89197 entries, 0 to 89196\n",
      "Data columns (total 10 columns):\n",
      " #   Column            Non-Null Count  Dtype  \n",
      "---  ------            --------------  -----  \n",
      " 0   row_id            89197 non-null  int64  \n",
      " 1   user_id           89197 non-null  int64  \n",
      " 2   category_id       89197 non-null  int64  \n",
      " 3   video_id          89197 non-null  int64  \n",
      " 4   age               89197 non-null  int64  \n",
      " 5   gender            89197 non-null  object \n",
      " 6   profession        89197 non-null  object \n",
      " 7   followers         89197 non-null  int64  \n",
      " 8   views             89197 non-null  int64  \n",
      " 9   engagement_score  89197 non-null  float64\n",
      "dtypes: float64(1), int64(7), object(2)\n",
      "memory usage: 6.8+ MB\n"
     ]
    }
   ],
   "source": [
    "train.info()"
   ]
  },
  {
   "cell_type": "markdown",
   "metadata": {},
   "source": [
    "### 3. Exploratory Data Analysis & Data Cleaning"
   ]
  },
  {
   "cell_type": "code",
   "execution_count": 31,
   "metadata": {},
   "outputs": [
    {
     "data": {
      "text/html": [
       "<div>\n",
       "<style scoped>\n",
       "    .dataframe tbody tr th:only-of-type {\n",
       "        vertical-align: middle;\n",
       "    }\n",
       "\n",
       "    .dataframe tbody tr th {\n",
       "        vertical-align: top;\n",
       "    }\n",
       "\n",
       "    .dataframe thead th {\n",
       "        text-align: right;\n",
       "    }\n",
       "</style>\n",
       "<table border=\"1\" class=\"dataframe\">\n",
       "  <thead>\n",
       "    <tr style=\"text-align: right;\">\n",
       "      <th></th>\n",
       "      <th>row_id</th>\n",
       "      <th>user_id</th>\n",
       "      <th>category_id</th>\n",
       "      <th>video_id</th>\n",
       "      <th>age</th>\n",
       "      <th>gender</th>\n",
       "      <th>profession</th>\n",
       "      <th>followers</th>\n",
       "      <th>views</th>\n",
       "      <th>engagement_score</th>\n",
       "    </tr>\n",
       "  </thead>\n",
       "  <tbody>\n",
       "    <tr>\n",
       "      <th>0</th>\n",
       "      <td>1</td>\n",
       "      <td>19990</td>\n",
       "      <td>37</td>\n",
       "      <td>128</td>\n",
       "      <td>24</td>\n",
       "      <td>Male</td>\n",
       "      <td>Student</td>\n",
       "      <td>180</td>\n",
       "      <td>1000</td>\n",
       "      <td>4.33</td>\n",
       "    </tr>\n",
       "    <tr>\n",
       "      <th>1</th>\n",
       "      <td>2</td>\n",
       "      <td>5304</td>\n",
       "      <td>32</td>\n",
       "      <td>132</td>\n",
       "      <td>14</td>\n",
       "      <td>Female</td>\n",
       "      <td>Student</td>\n",
       "      <td>330</td>\n",
       "      <td>714</td>\n",
       "      <td>1.79</td>\n",
       "    </tr>\n",
       "    <tr>\n",
       "      <th>2</th>\n",
       "      <td>3</td>\n",
       "      <td>1840</td>\n",
       "      <td>12</td>\n",
       "      <td>24</td>\n",
       "      <td>19</td>\n",
       "      <td>Male</td>\n",
       "      <td>Student</td>\n",
       "      <td>180</td>\n",
       "      <td>138</td>\n",
       "      <td>4.35</td>\n",
       "    </tr>\n",
       "  </tbody>\n",
       "</table>\n",
       "</div>"
      ],
      "text/plain": [
       "   row_id  user_id  category_id  video_id  age  gender profession  followers  \\\n",
       "0       1    19990           37       128   24    Male    Student        180   \n",
       "1       2     5304           32       132   14  Female    Student        330   \n",
       "2       3     1840           12        24   19    Male    Student        180   \n",
       "\n",
       "   views  engagement_score  \n",
       "0   1000              4.33  \n",
       "1    714              1.79  \n",
       "2    138              4.35  "
      ]
     },
     "execution_count": 31,
     "metadata": {},
     "output_type": "execute_result"
    }
   ],
   "source": [
    "train.head(3)"
   ]
  },
  {
   "cell_type": "code",
   "execution_count": 32,
   "metadata": {},
   "outputs": [
    {
     "data": {
      "image/png": "[encoded data removed]",
      "text/plain": [
       "<Figure size 1440x1080 with 4 Axes>"
      ]
     },
     "metadata": {
      "needs_background": "light"
     },
     "output_type": "display_data"
    }
   ],
   "source": [
    "# We plot a histogram of the columns removing the IDs like user_id,video_id etc.\n",
    "hist_df = train.iloc[:,4:]\n",
    "hist_df.hist(bins=20,figsize=(20,15))\n",
    "plt.show()"
   ]
  },
  {
   "cell_type": "markdown",
   "metadata": {},
   "source": [
    "* Here we observe that the column 'age' is right skewed.\n",
    "* Column 'Engagement score' is left skewed\n",
    "\n",
    "__'Engagement score' is our TARGET variable hence we would ensure that the values are normally distributed__"
   ]
  },
  {
   "cell_type": "code",
   "execution_count": 33,
   "metadata": {},
   "outputs": [
    {
     "data": {
      "text/html": [
       "<div>\n",
       "<style scoped>\n",
       "    .dataframe tbody tr th:only-of-type {\n",
       "        vertical-align: middle;\n",
       "    }\n",
       "\n",
       "    .dataframe tbody tr th {\n",
       "        vertical-align: top;\n",
       "    }\n",
       "\n",
       "    .dataframe thead th {\n",
       "        text-align: right;\n",
       "    }\n",
       "</style>\n",
       "<table border=\"1\" class=\"dataframe\">\n",
       "  <thead>\n",
       "    <tr style=\"text-align: right;\">\n",
       "      <th></th>\n",
       "      <th>age</th>\n",
       "      <th>followers</th>\n",
       "      <th>views</th>\n",
       "      <th>engagement_score</th>\n",
       "    </tr>\n",
       "  </thead>\n",
       "  <tbody>\n",
       "    <tr>\n",
       "      <th>count</th>\n",
       "      <td>89197.000000</td>\n",
       "      <td>89197.000000</td>\n",
       "      <td>89197.000000</td>\n",
       "      <td>89197.000000</td>\n",
       "    </tr>\n",
       "    <tr>\n",
       "      <th>mean</th>\n",
       "      <td>24.848616</td>\n",
       "      <td>252.460172</td>\n",
       "      <td>502.980268</td>\n",
       "      <td>3.487797</td>\n",
       "    </tr>\n",
       "    <tr>\n",
       "      <th>std</th>\n",
       "      <td>8.955535</td>\n",
       "      <td>46.094468</td>\n",
       "      <td>268.569482</td>\n",
       "      <td>0.863498</td>\n",
       "    </tr>\n",
       "    <tr>\n",
       "      <th>min</th>\n",
       "      <td>10.000000</td>\n",
       "      <td>160.000000</td>\n",
       "      <td>30.000000</td>\n",
       "      <td>0.000000</td>\n",
       "    </tr>\n",
       "    <tr>\n",
       "      <th>25%</th>\n",
       "      <td>18.000000</td>\n",
       "      <td>230.000000</td>\n",
       "      <td>229.000000</td>\n",
       "      <td>2.900000</td>\n",
       "    </tr>\n",
       "    <tr>\n",
       "      <th>50%</th>\n",
       "      <td>23.000000</td>\n",
       "      <td>240.000000</td>\n",
       "      <td>467.000000</td>\n",
       "      <td>3.710000</td>\n",
       "    </tr>\n",
       "    <tr>\n",
       "      <th>75%</th>\n",
       "      <td>32.000000</td>\n",
       "      <td>280.000000</td>\n",
       "      <td>714.000000</td>\n",
       "      <td>4.150000</td>\n",
       "    </tr>\n",
       "    <tr>\n",
       "      <th>max</th>\n",
       "      <td>68.000000</td>\n",
       "      <td>360.000000</td>\n",
       "      <td>1000.000000</td>\n",
       "      <td>5.000000</td>\n",
       "    </tr>\n",
       "  </tbody>\n",
       "</table>\n",
       "</div>"
      ],
      "text/plain": [
       "                age     followers         views  engagement_score\n",
       "count  89197.000000  89197.000000  89197.000000      89197.000000\n",
       "mean      24.848616    252.460172    502.980268          3.487797\n",
       "std        8.955535     46.094468    268.569482          0.863498\n",
       "min       10.000000    160.000000     30.000000          0.000000\n",
       "25%       18.000000    230.000000    229.000000          2.900000\n",
       "50%       23.000000    240.000000    467.000000          3.710000\n",
       "75%       32.000000    280.000000    714.000000          4.150000\n",
       "max       68.000000    360.000000   1000.000000          5.000000"
      ]
     },
     "execution_count": 33,
     "metadata": {},
     "output_type": "execute_result"
    }
   ],
   "source": [
    "## No we see some statistics related to our numeric data\n",
    "stats=hist_df.describe()\n",
    "stats"
   ]
  },
  {
   "cell_type": "markdown",
   "metadata": {},
   "source": [
    "__The inferences made from the statistics table are the following: -__\n",
    "\n",
    "* Only 25% of the total users recorded are aged above 32 which explains the skewness in the 'age' column\n",
    "* Only less than 25% of the engaement scores are less than 2.90 which again explains the left skewness."
   ]
  },
  {
   "cell_type": "markdown",
   "metadata": {},
   "source": [
    "___Now we make some visuals for the string categoricals___\n",
    "\n",
    "* Fristly, we observe that the porportion of males is almost 18% more than the proprotion of females.\n",
    "* Secondly, in our Professions column, close to 51% of the users are students while the 'working professionals' account for only 20% of the total users."
   ]
  },
  {
   "cell_type": "code",
   "execution_count": 34,
   "metadata": {},
   "outputs": [],
   "source": [
    "def countPlot(train,s):\n",
    "    plt.figure(figsize=(10,5))\n",
    "    sns.countplot(s,data=train)\n",
    "    plt.show()\n",
    "    print(train[s].value_counts(normalize=True)*100)"
   ]
  },
  {
   "cell_type": "code",
   "execution_count": 35,
   "metadata": {},
   "outputs": [
    {
     "data": {
      "image/png": "[encoded data removed]",
      "text/plain": [
       "<Figure size 720x360 with 1 Axes>"
      ]
     },
     "metadata": {
      "needs_background": "light"
     },
     "output_type": "display_data"
    },
    {
     "name": "stdout",
     "output_type": "stream",
     "text": [
      "Male      58.743007\n",
      "Female    41.256993\n",
      "Name: gender, dtype: float64\n"
     ]
    },
    {
     "data": {
      "image/png": "[encoded data removed]",
      "text/plain": [
       "<Figure size 720x360 with 1 Axes>"
      ]
     },
     "metadata": {
      "needs_background": "light"
     },
     "output_type": "display_data"
    },
    {
     "name": "stdout",
     "output_type": "stream",
     "text": [
      "Student                 50.044284\n",
      "Other                   30.090698\n",
      "Working Professional    19.865018\n",
      "Name: profession, dtype: float64\n"
     ]
    }
   ],
   "source": [
    "countPlot(train,'gender')\n",
    "countPlot(train,'profession')"
   ]
  },
  {
   "cell_type": "markdown",
   "metadata": {},
   "source": [
    "### Analysis on the Age column"
   ]
  },
  {
   "cell_type": "code",
   "execution_count": 36,
   "metadata": {},
   "outputs": [
    {
     "data": {
      "image/png": "[encoded data removed]",
      "text/plain": [
       "<Figure size 576x720 with 1 Axes>"
      ]
     },
     "metadata": {},
     "output_type": "display_data"
    }
   ],
   "source": [
    "##We formulate some groups and make our analysis on the age\n",
    "young = train[(train['age']>=10) & (train['age']<=35)]\n",
    "middle_aged = train[(train['age']>35) & (train['age']<=50)]\n",
    "older = train[train.age>50]\n",
    "\n",
    "sns.set_context('talk',font_scale = 1)\n",
    "plt.figure(figsize=(8,10))\n",
    "colors = ['pink','green','red']\n",
    "explode = [0,0,0.1]\n",
    "plt.pie([len(young),len(middle_aged),len(older)],labels=['young','middle-aged','Older'],explode=explode,colors=colors, autopct='%1.1f%%')\n",
    "plt.tight_layout()\n",
    "plt.show()"
   ]
  },
  {
   "cell_type": "markdown",
   "metadata": {},
   "source": [
    "__Hence we observe, from all the users, 86.5% are users falling under the range of age 10-35 years. The proportion of users above the 50 years is merely 0.5%__"
   ]
  },
  {
   "cell_type": "markdown",
   "metadata": {},
   "source": [
    "#### Some light on Followers and Views on the videos"
   ]
  },
  {
   "cell_type": "code",
   "execution_count": 37,
   "metadata": {},
   "outputs": [
    {
     "data": {
      "text/html": [
       "<div>\n",
       "<style scoped>\n",
       "    .dataframe tbody tr th:only-of-type {\n",
       "        vertical-align: middle;\n",
       "    }\n",
       "\n",
       "    .dataframe tbody tr th {\n",
       "        vertical-align: top;\n",
       "    }\n",
       "\n",
       "    .dataframe thead th {\n",
       "        text-align: right;\n",
       "    }\n",
       "</style>\n",
       "<table border=\"1\" class=\"dataframe\">\n",
       "  <thead>\n",
       "    <tr style=\"text-align: right;\">\n",
       "      <th></th>\n",
       "      <th>video_id</th>\n",
       "      <th>views</th>\n",
       "      <th>followers</th>\n",
       "    </tr>\n",
       "  </thead>\n",
       "  <tbody>\n",
       "    <tr>\n",
       "      <th>0</th>\n",
       "      <td>1</td>\n",
       "      <td>840069</td>\n",
       "      <td>371690</td>\n",
       "    </tr>\n",
       "    <tr>\n",
       "      <th>111</th>\n",
       "      <td>112</td>\n",
       "      <td>819581</td>\n",
       "      <td>294140</td>\n",
       "    </tr>\n",
       "    <tr>\n",
       "      <th>52</th>\n",
       "      <td>53</td>\n",
       "      <td>817742</td>\n",
       "      <td>293480</td>\n",
       "    </tr>\n",
       "    <tr>\n",
       "      <th>49</th>\n",
       "      <td>50</td>\n",
       "      <td>623574</td>\n",
       "      <td>219520</td>\n",
       "    </tr>\n",
       "    <tr>\n",
       "      <th>1</th>\n",
       "      <td>2</td>\n",
       "      <td>615780</td>\n",
       "      <td>223920</td>\n",
       "    </tr>\n",
       "    <tr>\n",
       "      <th>...</th>\n",
       "      <td>...</td>\n",
       "      <td>...</td>\n",
       "      <td>...</td>\n",
       "    </tr>\n",
       "    <tr>\n",
       "      <th>19</th>\n",
       "      <td>20</td>\n",
       "      <td>15884</td>\n",
       "      <td>75810</td>\n",
       "    </tr>\n",
       "    <tr>\n",
       "      <th>80</th>\n",
       "      <td>81</td>\n",
       "      <td>15288</td>\n",
       "      <td>76440</td>\n",
       "    </tr>\n",
       "    <tr>\n",
       "      <th>174</th>\n",
       "      <td>175</td>\n",
       "      <td>11656</td>\n",
       "      <td>12220</td>\n",
       "    </tr>\n",
       "    <tr>\n",
       "      <th>2</th>\n",
       "      <td>3</td>\n",
       "      <td>5010</td>\n",
       "      <td>36740</td>\n",
       "    </tr>\n",
       "    <tr>\n",
       "      <th>37</th>\n",
       "      <td>38</td>\n",
       "      <td>4928</td>\n",
       "      <td>23520</td>\n",
       "    </tr>\n",
       "  </tbody>\n",
       "</table>\n",
       "<p>175 rows × 3 columns</p>\n",
       "</div>"
      ],
      "text/plain": [
       "     video_id   views  followers\n",
       "0           1  840069     371690\n",
       "111       112  819581     294140\n",
       "52         53  817742     293480\n",
       "49         50  623574     219520\n",
       "1           2  615780     223920\n",
       "..        ...     ...        ...\n",
       "19         20   15884      75810\n",
       "80         81   15288      76440\n",
       "174       175   11656      12220\n",
       "2           3    5010      36740\n",
       "37         38    4928      23520\n",
       "\n",
       "[175 rows x 3 columns]"
      ]
     },
     "execution_count": 37,
     "metadata": {},
     "output_type": "execute_result"
    }
   ],
   "source": [
    "fol = train.groupby(['video_id']).agg({'views':'sum','followers':'sum'}).reset_index()\n",
    "fol.sort_values(by='views',ascending=False)"
   ]
  },
  {
   "cell_type": "markdown",
   "metadata": {},
   "source": [
    "__1) Hence we observe that Video_ID - 1 has the most number of views and followers__\n",
    "\n",
    "__2) Video_id 175 has the least number of followers while videos falling under the category of video_id 38 has the least number of views.__\n"
   ]
  },
  {
   "cell_type": "code",
   "execution_count": 38,
   "metadata": {},
   "outputs": [
    {
     "name": "stdout",
     "output_type": "stream",
     "text": [
      "   category_id    views  followers\n",
      "0            1  1791900        360\n",
      "--------------------------------------------------------------------------------\n",
      "   category_id   views  followers\n",
      "6            7  880295        160\n",
      "--------------------------------------------------------------------------------\n",
      "   category_id    views  followers\n",
      "7            8  3964564        280\n",
      "--------------------------------------------------------------------------------\n",
      "   category_id  views  followers\n",
      "1            2   5010        220\n"
     ]
    }
   ],
   "source": [
    "famous_cat = train.groupby(['category_id']).agg({'views':'sum','followers':'mean'}).reset_index()\n",
    "print(famous_cat.sort_values(by='followers',ascending=False).head(1))\n",
    "print('-'*80)\n",
    "print(famous_cat.sort_values(by='followers',ascending=False).tail(1))\n",
    "print('-'*80)\n",
    "print(famous_cat.sort_values(by='views',ascending=False).head(1))\n",
    "print('-'*80)\n",
    "print(famous_cat.sort_values(by='views',ascending=False).tail(1))"
   ]
  },
  {
   "cell_type": "markdown",
   "metadata": {},
   "source": [
    "### Inferences\n",
    "\n",
    ">Hence we see that the videos falling under the category 1 have most number of followers while videos falling under the category of id 7 has the least number of followers.\n",
    "\n",
    ">Similarly, videos under category 8 have the most number of views while videos under category 2 have the least number of views."
   ]
  },
  {
   "cell_type": "code",
   "execution_count": 39,
   "metadata": {},
   "outputs": [
    {
     "data": {
      "text/plain": [
       "<seaborn.axisgrid.PairGrid at 0x19e3f662f70>"
      ]
     },
     "execution_count": 39,
     "metadata": {},
     "output_type": "execute_result"
    },
    {
     "data": {
      "image/png": "[encoded data removed]",
      "text/plain": [
       "<Figure size 591.15x360 with 6 Axes>"
      ]
     },
     "metadata": {
      "needs_background": "light"
     },
     "output_type": "display_data"
    }
   ],
   "source": [
    "z= train[['followers','views','profession']]\n",
    "sns.set_context('talk')\n",
    "sns.pairplot(z,hue='profession')"
   ]
  },
  {
   "cell_type": "markdown",
   "metadata": {},
   "source": [
    "__Hence these plots do not tell much about the professional category and number of views and followers as the data points are too scattered to infer, but one thing is sure that Students are clearly dominating__"
   ]
  },
  {
   "cell_type": "markdown",
   "metadata": {},
   "source": [
    "#### We now check for correlations"
   ]
  },
  {
   "cell_type": "code",
   "execution_count": 20,
   "metadata": {},
   "outputs": [
    {
     "data": {
      "text/html": [
       "<div>\n",
       "<style scoped>\n",
       "    .dataframe tbody tr th:only-of-type {\n",
       "        vertical-align: middle;\n",
       "    }\n",
       "\n",
       "    .dataframe tbody tr th {\n",
       "        vertical-align: top;\n",
       "    }\n",
       "\n",
       "    .dataframe thead th {\n",
       "        text-align: right;\n",
       "    }\n",
       "</style>\n",
       "<table border=\"1\" class=\"dataframe\">\n",
       "  <thead>\n",
       "    <tr style=\"text-align: right;\">\n",
       "      <th></th>\n",
       "      <th>category_id</th>\n",
       "      <th>age</th>\n",
       "      <th>followers</th>\n",
       "      <th>views</th>\n",
       "      <th>engagement_score</th>\n",
       "    </tr>\n",
       "  </thead>\n",
       "  <tbody>\n",
       "    <tr>\n",
       "      <th>0</th>\n",
       "      <td>37</td>\n",
       "      <td>24</td>\n",
       "      <td>180</td>\n",
       "      <td>1000</td>\n",
       "      <td>4.33</td>\n",
       "    </tr>\n",
       "    <tr>\n",
       "      <th>1</th>\n",
       "      <td>32</td>\n",
       "      <td>14</td>\n",
       "      <td>330</td>\n",
       "      <td>714</td>\n",
       "      <td>1.79</td>\n",
       "    </tr>\n",
       "    <tr>\n",
       "      <th>2</th>\n",
       "      <td>12</td>\n",
       "      <td>19</td>\n",
       "      <td>180</td>\n",
       "      <td>138</td>\n",
       "      <td>4.35</td>\n",
       "    </tr>\n",
       "    <tr>\n",
       "      <th>3</th>\n",
       "      <td>23</td>\n",
       "      <td>19</td>\n",
       "      <td>220</td>\n",
       "      <td>613</td>\n",
       "      <td>3.77</td>\n",
       "    </tr>\n",
       "    <tr>\n",
       "      <th>4</th>\n",
       "      <td>23</td>\n",
       "      <td>27</td>\n",
       "      <td>220</td>\n",
       "      <td>613</td>\n",
       "      <td>3.13</td>\n",
       "    </tr>\n",
       "  </tbody>\n",
       "</table>\n",
       "</div>"
      ],
      "text/plain": [
       "   category_id  age  followers  views  engagement_score\n",
       "0           37   24        180   1000              4.33\n",
       "1           32   14        330    714              1.79\n",
       "2           12   19        180    138              4.35\n",
       "3           23   19        220    613              3.77\n",
       "4           23   27        220    613              3.13"
      ]
     },
     "execution_count": 20,
     "metadata": {},
     "output_type": "execute_result"
    }
   ],
   "source": [
    "## We remove certain unwanted columns like the unique identifiers which do not add any meaning to the analyses\n",
    "num_cols_corr = num_cols.iloc[:,2:]\n",
    "num_cols_corr=num_cols_corr.drop(['video_id'],axis=1)\n",
    "num_cols_corr.head()"
   ]
  },
  {
   "cell_type": "code",
   "execution_count": 21,
   "metadata": {},
   "outputs": [
    {
     "data": {
      "text/html": [
       "<div>\n",
       "<style scoped>\n",
       "    .dataframe tbody tr th:only-of-type {\n",
       "        vertical-align: middle;\n",
       "    }\n",
       "\n",
       "    .dataframe tbody tr th {\n",
       "        vertical-align: top;\n",
       "    }\n",
       "\n",
       "    .dataframe thead th {\n",
       "        text-align: right;\n",
       "    }\n",
       "</style>\n",
       "<table border=\"1\" class=\"dataframe\">\n",
       "  <thead>\n",
       "    <tr style=\"text-align: right;\">\n",
       "      <th></th>\n",
       "      <th>category_id</th>\n",
       "      <th>age</th>\n",
       "      <th>followers</th>\n",
       "      <th>views</th>\n",
       "      <th>engagement_score</th>\n",
       "    </tr>\n",
       "  </thead>\n",
       "  <tbody>\n",
       "    <tr>\n",
       "      <th>category_id</th>\n",
       "      <td>1.000000</td>\n",
       "      <td>-0.003152</td>\n",
       "      <td>0.056432</td>\n",
       "      <td>0.079321</td>\n",
       "      <td>-0.094288</td>\n",
       "    </tr>\n",
       "    <tr>\n",
       "      <th>age</th>\n",
       "      <td>-0.003152</td>\n",
       "      <td>1.000000</td>\n",
       "      <td>0.004623</td>\n",
       "      <td>0.011042</td>\n",
       "      <td>-0.232626</td>\n",
       "    </tr>\n",
       "    <tr>\n",
       "      <th>followers</th>\n",
       "      <td>0.056432</td>\n",
       "      <td>0.004623</td>\n",
       "      <td>1.000000</td>\n",
       "      <td>0.360808</td>\n",
       "      <td>0.000855</td>\n",
       "    </tr>\n",
       "    <tr>\n",
       "      <th>views</th>\n",
       "      <td>0.079321</td>\n",
       "      <td>0.011042</td>\n",
       "      <td>0.360808</td>\n",
       "      <td>1.000000</td>\n",
       "      <td>-0.084679</td>\n",
       "    </tr>\n",
       "    <tr>\n",
       "      <th>engagement_score</th>\n",
       "      <td>-0.094288</td>\n",
       "      <td>-0.232626</td>\n",
       "      <td>0.000855</td>\n",
       "      <td>-0.084679</td>\n",
       "      <td>1.000000</td>\n",
       "    </tr>\n",
       "  </tbody>\n",
       "</table>\n",
       "</div>"
      ],
      "text/plain": [
       "                  category_id       age  followers     views  engagement_score\n",
       "category_id          1.000000 -0.003152   0.056432  0.079321         -0.094288\n",
       "age                 -0.003152  1.000000   0.004623  0.011042         -0.232626\n",
       "followers            0.056432  0.004623   1.000000  0.360808          0.000855\n",
       "views                0.079321  0.011042   0.360808  1.000000         -0.084679\n",
       "engagement_score    -0.094288 -0.232626   0.000855 -0.084679          1.000000"
      ]
     },
     "execution_count": 21,
     "metadata": {},
     "output_type": "execute_result"
    }
   ],
   "source": [
    "corr_mat=num_cols_corr.corr()\n",
    "corr_mat"
   ]
  },
  {
   "cell_type": "code",
   "execution_count": 23,
   "metadata": {},
   "outputs": [
    {
     "data": {
      "image/png": "[encoded data removed]",
      "text/plain": [
       "<Figure size 1080x648 with 2 Axes>"
      ]
     },
     "metadata": {},
     "output_type": "display_data"
    }
   ],
   "source": [
    "sns.heatmap(corr_mat,annot=True)\n",
    "sns.set(rc = {'figure.figsize':(15,9)})\n",
    "sns.set()"
   ]
  },
  {
   "cell_type": "markdown",
   "metadata": {},
   "source": [
    "## Inferences\n",
    "\n",
    ">__a) We infer that there is not much correlation between the features hence Multicollinearity would not be a hurdle in case of modelling__\n",
    "\n",
    ">__b) The highest correlation in absolute terms is between age and the engagement_score. The correlation is around negative 0.2 which means that as people grow older there is a slight downfall in the engagement score which is well established in the skewness of our age column in our data__"
   ]
  },
  {
   "cell_type": "markdown",
   "metadata": {},
   "source": [
    "## 4. Feature Engineering\n",
    "\n",
    "#### Feature engineering is a machine learning technique that leverages data to create new variables that aren’t in the training set. It can produce new features for both supervised and unsupervised learning, with the goal of simplifying and speeding up data transformations while also enhancing model accuracy."
   ]
  },
  {
   "cell_type": "markdown",
   "metadata": {},
   "source": [
    "`Since we will be making modifications in our training set itself hence we create a copy of the data so that we could re-use it further if needed. Otherwise, the data being used for feature engineering will be use to build our model`"
   ]
  },
  {
   "cell_type": "code",
   "execution_count": 24,
   "metadata": {},
   "outputs": [],
   "source": [
    "train_2 = train.copy()"
   ]
  },
  {
   "cell_type": "code",
   "execution_count": 25,
   "metadata": {},
   "outputs": [],
   "source": [
    "test_2 = test.copy()"
   ]
  },
  {
   "cell_type": "markdown",
   "metadata": {},
   "source": [
    "##### Feature creation"
   ]
  },
  {
   "cell_type": "markdown",
   "metadata": {},
   "source": [
    "__Now, we could get a great deal about the categories of videos after observing their number of followers and number of views. Supposedly, if we divide our number of followers with our number of views, we could assess the quality of the categories of the videos.__\n",
    "\n",
    "__For example, if a category has 100 followers and 200 total views then views/followers gives us 2 which means that each follower has, on an average, seen the videos under that category twice.__\n",
    "\n",
    "__On the other hand, if the followers remain the same for another category of videos but the number of views increases to 400 then it might mean that the videos in the latter category are liked more by the users__"
   ]
  },
  {
   "cell_type": "code",
   "execution_count": 26,
   "metadata": {},
   "outputs": [],
   "source": [
    "train['viewsPerFollower'] = train['views']/train['followers']\n",
    "test['viewsPerFollower'] = test['views']/test['followers']"
   ]
  },
  {
   "cell_type": "code",
   "execution_count": 27,
   "metadata": {},
   "outputs": [
    {
     "data": {
      "text/html": [
       "<div>\n",
       "<style scoped>\n",
       "    .dataframe tbody tr th:only-of-type {\n",
       "        vertical-align: middle;\n",
       "    }\n",
       "\n",
       "    .dataframe tbody tr th {\n",
       "        vertical-align: top;\n",
       "    }\n",
       "\n",
       "    .dataframe thead th {\n",
       "        text-align: right;\n",
       "    }\n",
       "</style>\n",
       "<table border=\"1\" class=\"dataframe\">\n",
       "  <thead>\n",
       "    <tr style=\"text-align: right;\">\n",
       "      <th></th>\n",
       "      <th>row_id</th>\n",
       "      <th>user_id</th>\n",
       "      <th>category_id</th>\n",
       "      <th>video_id</th>\n",
       "      <th>age</th>\n",
       "      <th>gender</th>\n",
       "      <th>profession</th>\n",
       "      <th>followers</th>\n",
       "      <th>views</th>\n",
       "      <th>engagement_score</th>\n",
       "      <th>viewsPerFollower</th>\n",
       "    </tr>\n",
       "  </thead>\n",
       "  <tbody>\n",
       "    <tr>\n",
       "      <th>0</th>\n",
       "      <td>1</td>\n",
       "      <td>19990</td>\n",
       "      <td>37</td>\n",
       "      <td>128</td>\n",
       "      <td>24</td>\n",
       "      <td>Male</td>\n",
       "      <td>Student</td>\n",
       "      <td>180</td>\n",
       "      <td>1000</td>\n",
       "      <td>4.33</td>\n",
       "      <td>5.555556</td>\n",
       "    </tr>\n",
       "    <tr>\n",
       "      <th>1</th>\n",
       "      <td>2</td>\n",
       "      <td>5304</td>\n",
       "      <td>32</td>\n",
       "      <td>132</td>\n",
       "      <td>14</td>\n",
       "      <td>Female</td>\n",
       "      <td>Student</td>\n",
       "      <td>330</td>\n",
       "      <td>714</td>\n",
       "      <td>1.79</td>\n",
       "      <td>2.163636</td>\n",
       "    </tr>\n",
       "    <tr>\n",
       "      <th>2</th>\n",
       "      <td>3</td>\n",
       "      <td>1840</td>\n",
       "      <td>12</td>\n",
       "      <td>24</td>\n",
       "      <td>19</td>\n",
       "      <td>Male</td>\n",
       "      <td>Student</td>\n",
       "      <td>180</td>\n",
       "      <td>138</td>\n",
       "      <td>4.35</td>\n",
       "      <td>0.766667</td>\n",
       "    </tr>\n",
       "    <tr>\n",
       "      <th>3</th>\n",
       "      <td>4</td>\n",
       "      <td>12597</td>\n",
       "      <td>23</td>\n",
       "      <td>112</td>\n",
       "      <td>19</td>\n",
       "      <td>Male</td>\n",
       "      <td>Student</td>\n",
       "      <td>220</td>\n",
       "      <td>613</td>\n",
       "      <td>3.77</td>\n",
       "      <td>2.786364</td>\n",
       "    </tr>\n",
       "    <tr>\n",
       "      <th>4</th>\n",
       "      <td>5</td>\n",
       "      <td>13626</td>\n",
       "      <td>23</td>\n",
       "      <td>112</td>\n",
       "      <td>27</td>\n",
       "      <td>Male</td>\n",
       "      <td>Working Professional</td>\n",
       "      <td>220</td>\n",
       "      <td>613</td>\n",
       "      <td>3.13</td>\n",
       "      <td>2.786364</td>\n",
       "    </tr>\n",
       "  </tbody>\n",
       "</table>\n",
       "</div>"
      ],
      "text/plain": [
       "   row_id  user_id  category_id  video_id  age  gender            profession  \\\n",
       "0       1    19990           37       128   24    Male               Student   \n",
       "1       2     5304           32       132   14  Female               Student   \n",
       "2       3     1840           12        24   19    Male               Student   \n",
       "3       4    12597           23       112   19    Male               Student   \n",
       "4       5    13626           23       112   27    Male  Working Professional   \n",
       "\n",
       "   followers  views  engagement_score  viewsPerFollower  \n",
       "0        180   1000              4.33          5.555556  \n",
       "1        330    714              1.79          2.163636  \n",
       "2        180    138              4.35          0.766667  \n",
       "3        220    613              3.77          2.786364  \n",
       "4        220    613              3.13          2.786364  "
      ]
     },
     "execution_count": 27,
     "metadata": {},
     "output_type": "execute_result"
    }
   ],
   "source": [
    "train.head()"
   ]
  },
  {
   "cell_type": "code",
   "execution_count": 28,
   "metadata": {},
   "outputs": [
    {
     "data": {
      "text/plain": [
       "gender        object\n",
       "profession    object\n",
       "dtype: object"
      ]
     },
     "execution_count": 28,
     "metadata": {},
     "output_type": "execute_result"
    }
   ],
   "source": [
    "cat_cols"
   ]
  },
  {
   "cell_type": "markdown",
   "metadata": {},
   "source": [
    "### Feature Transformations - One-hot Encoding \n",
    "\n",
    "#### Machines understand numbers, not text. We need to convert each text category to numbers in order for the machine to process them using mathematical equations\n",
    "\n",
    "\n",
    "##### a) We shall apply one-hot encoding as our categorical features are not oridnal(they do not have any order like low, medium and high). We go forward with Label encoder when our features are ordinal.\n",
    "##### b) Now for the nominal features we first check the number of unique columns that would be added to the data frame since one hot encoding adds a new feature for each of the unique values. So, if the number of new additions is not very high, then we shall go forward with one hot encoding."
   ]
  },
  {
   "cell_type": "markdown",
   "metadata": {},
   "source": [
    "`We bifurcate our data set and drop columns like user_id & video_id as they are columns with unique values and would not contribute much in terms of training our model.`\n",
    "\n"
   ]
  },
  {
   "cell_type": "code",
   "execution_count": 29,
   "metadata": {},
   "outputs": [],
   "source": [
    "y=train['engagement_score']\n",
    "x=train.drop(columns=['user_id','video_id','engagement_score'], axis=1)"
   ]
  },
  {
   "cell_type": "code",
   "execution_count": 30,
   "metadata": {},
   "outputs": [],
   "source": [
    "# x_data = x.copy()\n",
    "# x_le=['gender','profession']\n",
    "# le = LabelEncoder()\n",
    "# for v in x_le:\n",
    "#     x_data[v]=le.fit_transform(x_data[v])"
   ]
  },
  {
   "cell_type": "code",
   "execution_count": 31,
   "metadata": {},
   "outputs": [],
   "source": [
    "x_ohe=['gender','profession']\n",
    "le = LabelEncoder()\n",
    "ohe = OneHotEncoder()\n",
    "x_data = x.copy()\n",
    "final_test = test.copy()\n",
    "for c in x_ohe:\n",
    "    \n",
    "    #Integer encode the strting categories\n",
    "    d = le.fit_transform(x_data[c])\n",
    "    p = le.transform(final_test[c])\n",
    "    \n",
    "    #One hot encode\n",
    "    new_d = ohe.fit_transform(d.reshape(d.shape[0],1)) #A 2D array is required for one hot encoding,also it gives a sparse array.\n",
    "    new_p = ohe.transform(p.reshape(p.shape[0],1)) \n",
    "    \n",
    "    \n",
    "    #Remove the original categorical column from the data frame\n",
    "    x_data = x_data.drop(c,axis=1)\n",
    "    final_test = final_test.drop(c,axis=1)\n",
    "    \n",
    "    #give a new column name\n",
    "    col_name = ['_'.join([c,str(z)]) for z in range(new_d.shape[1])]\n",
    "    column_name = ['_'.join([c,str(z)]) for z in range(new_p.shape[1])]\n",
    "    \n",
    "    \n",
    "    #Covert the series into a data frame\n",
    "    new_df = pd.DataFrame(new_d.toarray(),index = x_data.index,columns=col_name)\n",
    "    new_dff = pd.DataFrame(new_p.toarray(),index = final_test.index,columns=column_name)\n",
    "    \n",
    "    #Concatenate the new data frame created with the original data frame\n",
    "    x_data = pd.concat([x_data,new_df],axis=1)\n",
    "    final_test = pd.concat([final_test,new_dff],axis=1)\n",
    "    \n",
    "    "
   ]
  },
  {
   "cell_type": "code",
   "execution_count": 33,
   "metadata": {},
   "outputs": [
    {
     "data": {
      "text/html": [
       "<div>\n",
       "<style scoped>\n",
       "    .dataframe tbody tr th:only-of-type {\n",
       "        vertical-align: middle;\n",
       "    }\n",
       "\n",
       "    .dataframe tbody tr th {\n",
       "        vertical-align: top;\n",
       "    }\n",
       "\n",
       "    .dataframe thead th {\n",
       "        text-align: right;\n",
       "    }\n",
       "</style>\n",
       "<table border=\"1\" class=\"dataframe\">\n",
       "  <thead>\n",
       "    <tr style=\"text-align: right;\">\n",
       "      <th></th>\n",
       "      <th>row_id</th>\n",
       "      <th>category_id</th>\n",
       "      <th>age</th>\n",
       "      <th>followers</th>\n",
       "      <th>views</th>\n",
       "      <th>viewsPerFollower</th>\n",
       "      <th>gender_0</th>\n",
       "      <th>gender_1</th>\n",
       "      <th>profession_0</th>\n",
       "      <th>profession_1</th>\n",
       "      <th>profession_2</th>\n",
       "    </tr>\n",
       "  </thead>\n",
       "  <tbody>\n",
       "    <tr>\n",
       "      <th>0</th>\n",
       "      <td>1</td>\n",
       "      <td>37</td>\n",
       "      <td>24</td>\n",
       "      <td>180</td>\n",
       "      <td>1000</td>\n",
       "      <td>5.555556</td>\n",
       "      <td>0.0</td>\n",
       "      <td>1.0</td>\n",
       "      <td>0.0</td>\n",
       "      <td>1.0</td>\n",
       "      <td>0.0</td>\n",
       "    </tr>\n",
       "    <tr>\n",
       "      <th>1</th>\n",
       "      <td>2</td>\n",
       "      <td>32</td>\n",
       "      <td>14</td>\n",
       "      <td>330</td>\n",
       "      <td>714</td>\n",
       "      <td>2.163636</td>\n",
       "      <td>1.0</td>\n",
       "      <td>0.0</td>\n",
       "      <td>0.0</td>\n",
       "      <td>1.0</td>\n",
       "      <td>0.0</td>\n",
       "    </tr>\n",
       "    <tr>\n",
       "      <th>2</th>\n",
       "      <td>3</td>\n",
       "      <td>12</td>\n",
       "      <td>19</td>\n",
       "      <td>180</td>\n",
       "      <td>138</td>\n",
       "      <td>0.766667</td>\n",
       "      <td>0.0</td>\n",
       "      <td>1.0</td>\n",
       "      <td>0.0</td>\n",
       "      <td>1.0</td>\n",
       "      <td>0.0</td>\n",
       "    </tr>\n",
       "    <tr>\n",
       "      <th>3</th>\n",
       "      <td>4</td>\n",
       "      <td>23</td>\n",
       "      <td>19</td>\n",
       "      <td>220</td>\n",
       "      <td>613</td>\n",
       "      <td>2.786364</td>\n",
       "      <td>0.0</td>\n",
       "      <td>1.0</td>\n",
       "      <td>0.0</td>\n",
       "      <td>1.0</td>\n",
       "      <td>0.0</td>\n",
       "    </tr>\n",
       "    <tr>\n",
       "      <th>4</th>\n",
       "      <td>5</td>\n",
       "      <td>23</td>\n",
       "      <td>27</td>\n",
       "      <td>220</td>\n",
       "      <td>613</td>\n",
       "      <td>2.786364</td>\n",
       "      <td>0.0</td>\n",
       "      <td>1.0</td>\n",
       "      <td>0.0</td>\n",
       "      <td>0.0</td>\n",
       "      <td>1.0</td>\n",
       "    </tr>\n",
       "  </tbody>\n",
       "</table>\n",
       "</div>"
      ],
      "text/plain": [
       "   row_id  category_id  age  followers  views  viewsPerFollower  gender_0  \\\n",
       "0       1           37   24        180   1000          5.555556       0.0   \n",
       "1       2           32   14        330    714          2.163636       1.0   \n",
       "2       3           12   19        180    138          0.766667       0.0   \n",
       "3       4           23   19        220    613          2.786364       0.0   \n",
       "4       5           23   27        220    613          2.786364       0.0   \n",
       "\n",
       "   gender_1  profession_0  profession_1  profession_2  \n",
       "0       1.0           0.0           1.0           0.0  \n",
       "1       0.0           0.0           1.0           0.0  \n",
       "2       1.0           0.0           1.0           0.0  \n",
       "3       1.0           0.0           1.0           0.0  \n",
       "4       1.0           0.0           0.0           1.0  "
      ]
     },
     "execution_count": 33,
     "metadata": {},
     "output_type": "execute_result"
    }
   ],
   "source": [
    "# Hence we have the updated data frame with 11 columns and the categorical columns removed.\n",
    "x_data.head()"
   ]
  },
  {
   "cell_type": "markdown",
   "metadata": {},
   "source": [
    "### Feature Transformation - Applying Log transform"
   ]
  },
  {
   "cell_type": "markdown",
   "metadata": {},
   "source": [
    "__We had earlier observed that our age column is right skewed and hence we would apply the log transformation in order to combat the skewness and make the column nearly NORMAL__\n",
    "\n",
    "__Below we see how the log transformation combats the skewness in the data set__"
   ]
  },
  {
   "cell_type": "code",
   "execution_count": 34,
   "metadata": {},
   "outputs": [
    {
     "data": {
      "image/png": "[encoded data removed]",
      "text/plain": [
       "<Figure size 1080x576 with 2 Axes>"
      ]
     },
     "metadata": {},
     "output_type": "display_data"
    }
   ],
   "source": [
    "fig,(ax_before,ax_after) = plt.subplots(1,2,figsize=(15,8))\n",
    "col = 'age'\n",
    "\n",
    "##Plotting one column or field without log transformation\n",
    "x_data[col].hist(bins=25,ax=ax_before)\n",
    "\n",
    "# Apply a log transformation (numpy syntax) to this column now\n",
    "x_data[col].apply(lambda x:np.log1p(x)).hist(ax=ax_after,bins=25)\n",
    "\n",
    "#Changing the titles of the graphs\n",
    "ax_before.set(title = 'Before the log transformation',ylabel='frequency', xlabel='value')\n",
    "ax_after.set(title = 'After the log transformation ',ylabel='frequency', xlabel='value')\n",
    "fig.suptitle('Field \"{}\"'.format(col))\n",
    "plt.show()"
   ]
  },
  {
   "cell_type": "markdown",
   "metadata": {},
   "source": [
    ">1)Hence we see that the log transformation does change the column to a column with values nearly normally distributed.\n",
    "\n",
    ">2)Kindly note that age cannot be anything but whole numbers, but for the purpose of training the model we have performed the log transformation"
   ]
  },
  {
   "cell_type": "code",
   "execution_count": 35,
   "metadata": {},
   "outputs": [],
   "source": [
    "x_data['age'] = x_data.age.apply(lambda x:np.log1p(x))"
   ]
  },
  {
   "cell_type": "code",
   "execution_count": 36,
   "metadata": {},
   "outputs": [
    {
     "data": {
      "text/html": [
       "<div>\n",
       "<style scoped>\n",
       "    .dataframe tbody tr th:only-of-type {\n",
       "        vertical-align: middle;\n",
       "    }\n",
       "\n",
       "    .dataframe tbody tr th {\n",
       "        vertical-align: top;\n",
       "    }\n",
       "\n",
       "    .dataframe thead th {\n",
       "        text-align: right;\n",
       "    }\n",
       "</style>\n",
       "<table border=\"1\" class=\"dataframe\">\n",
       "  <thead>\n",
       "    <tr style=\"text-align: right;\">\n",
       "      <th></th>\n",
       "      <th>row_id</th>\n",
       "      <th>category_id</th>\n",
       "      <th>age</th>\n",
       "      <th>followers</th>\n",
       "      <th>views</th>\n",
       "      <th>viewsPerFollower</th>\n",
       "      <th>gender_0</th>\n",
       "      <th>gender_1</th>\n",
       "      <th>profession_0</th>\n",
       "      <th>profession_1</th>\n",
       "      <th>profession_2</th>\n",
       "    </tr>\n",
       "  </thead>\n",
       "  <tbody>\n",
       "    <tr>\n",
       "      <th>0</th>\n",
       "      <td>1</td>\n",
       "      <td>37</td>\n",
       "      <td>3.218876</td>\n",
       "      <td>180</td>\n",
       "      <td>1000</td>\n",
       "      <td>5.555556</td>\n",
       "      <td>0.0</td>\n",
       "      <td>1.0</td>\n",
       "      <td>0.0</td>\n",
       "      <td>1.0</td>\n",
       "      <td>0.0</td>\n",
       "    </tr>\n",
       "    <tr>\n",
       "      <th>1</th>\n",
       "      <td>2</td>\n",
       "      <td>32</td>\n",
       "      <td>2.708050</td>\n",
       "      <td>330</td>\n",
       "      <td>714</td>\n",
       "      <td>2.163636</td>\n",
       "      <td>1.0</td>\n",
       "      <td>0.0</td>\n",
       "      <td>0.0</td>\n",
       "      <td>1.0</td>\n",
       "      <td>0.0</td>\n",
       "    </tr>\n",
       "    <tr>\n",
       "      <th>2</th>\n",
       "      <td>3</td>\n",
       "      <td>12</td>\n",
       "      <td>2.995732</td>\n",
       "      <td>180</td>\n",
       "      <td>138</td>\n",
       "      <td>0.766667</td>\n",
       "      <td>0.0</td>\n",
       "      <td>1.0</td>\n",
       "      <td>0.0</td>\n",
       "      <td>1.0</td>\n",
       "      <td>0.0</td>\n",
       "    </tr>\n",
       "  </tbody>\n",
       "</table>\n",
       "</div>"
      ],
      "text/plain": [
       "   row_id  category_id       age  followers  views  viewsPerFollower  \\\n",
       "0       1           37  3.218876        180   1000          5.555556   \n",
       "1       2           32  2.708050        330    714          2.163636   \n",
       "2       3           12  2.995732        180    138          0.766667   \n",
       "\n",
       "   gender_0  gender_1  profession_0  profession_1  profession_2  \n",
       "0       0.0       1.0           0.0           1.0           0.0  \n",
       "1       1.0       0.0           0.0           1.0           0.0  \n",
       "2       0.0       1.0           0.0           1.0           0.0  "
      ]
     },
     "execution_count": 36,
     "metadata": {},
     "output_type": "execute_result"
    }
   ],
   "source": [
    "x_data.head(3)"
   ]
  },
  {
   "cell_type": "code",
   "execution_count": 37,
   "metadata": {},
   "outputs": [],
   "source": [
    "#We set aside 20% of the data as a validation set to check the accuracy of our model.\n",
    "x_train,x_valid,y_train,y_valid = train_test_split(x_data,y,test_size=0.2,random_state=45)"
   ]
  },
  {
   "cell_type": "markdown",
   "metadata": {},
   "source": [
    "__Fitting the `LinearRegressor`__"
   ]
  },
  {
   "cell_type": "code",
   "execution_count": 38,
   "metadata": {},
   "outputs": [],
   "source": [
    "lr = LinearRegression()\n",
    "lr.fit(x_train,y_train)\n",
    "y_pred = lr.predict(x_valid)"
   ]
  },
  {
   "cell_type": "code",
   "execution_count": 39,
   "metadata": {},
   "outputs": [
    {
     "data": {
      "text/plain": [
       "0.2656712297844388"
      ]
     },
     "execution_count": 39,
     "metadata": {},
     "output_type": "execute_result"
    }
   ],
   "source": [
    "r2_score(y_valid,y_pred)"
   ]
  },
  {
   "cell_type": "code",
   "execution_count": 40,
   "metadata": {},
   "outputs": [
    {
     "data": {
      "text/plain": [
       "0.27376100725866226"
      ]
     },
     "execution_count": 40,
     "metadata": {},
     "output_type": "execute_result"
    }
   ],
   "source": [
    "r2_score(y_train,lr.predict(x_train))"
   ]
  },
  {
   "cell_type": "markdown",
   "metadata": {},
   "source": [
    "__Hence we see that the R^2 is low in both the cases which indicates that our Linear regression model is underfitting. Now we try fitting the `**decision tree regressor**` which is a powerful model, capable of finding complex non-linear relationships__"
   ]
  },
  {
   "cell_type": "code",
   "execution_count": 39,
   "metadata": {},
   "outputs": [
    {
     "data": {
      "text/plain": [
       "-0.3616622350996914"
      ]
     },
     "execution_count": 39,
     "metadata": {},
     "output_type": "execute_result"
    }
   ],
   "source": [
    "dr = DecisionTreeRegressor(random_state=0)\n",
    "dr.fit(x_train,y_train)\n",
    "y_pred1 = dr.predict(x_valid)\n",
    "r2_score(y_valid,y_pred1)"
   ]
  },
  {
   "cell_type": "code",
   "execution_count": 40,
   "metadata": {},
   "outputs": [
    {
     "data": {
      "text/plain": [
       "1.0"
      ]
     },
     "execution_count": 40,
     "metadata": {},
     "output_type": "execute_result"
    }
   ],
   "source": [
    "r2_score(y_train,dr.predict(x_train))"
   ]
  },
  {
   "cell_type": "markdown",
   "metadata": {},
   "source": [
    "__Here we see that the training error is zero while the test error is quite low which means the model has been overfitted badly.\n",
    "Therefore, we try one more model called the `Random Forest Regressor` which is essentiaklly training `Decision trees` on random subsets of the features, then averaging out the predictions. This is also known as the `Ensemble learning` and hence `Random forest is an ensemble model.`__"
   ]
  },
  {
   "cell_type": "code",
   "execution_count": 42,
   "metadata": {},
   "outputs": [
    {
     "data": {
      "text/plain": [
       "0.20968622116571"
      ]
     },
     "execution_count": 42,
     "metadata": {},
     "output_type": "execute_result"
    }
   ],
   "source": [
    "forest_reg = RandomForestRegressor(n_estimators=100, random_state=42)\n",
    "forest_reg.fit(x_train,y_train)\n",
    "forest_pred = forest_reg.predict(x_valid)\n",
    "r2_score(y_valid,forest_pred)"
   ]
  },
  {
   "cell_type": "code",
   "execution_count": 43,
   "metadata": {},
   "outputs": [
    {
     "data": {
      "text/plain": [
       "0.8918820172128574"
      ]
     },
     "execution_count": 43,
     "metadata": {},
     "output_type": "execute_result"
    }
   ],
   "source": [
    "##Checking on the training set\n",
    "forest_pred_tr = forest_reg.predict(x_train)\n",
    "r2_score(y_train,forest_pred_tr) #--random forest overfitting"
   ]
  },
  {
   "cell_type": "markdown",
   "metadata": {},
   "source": [
    "__Hence we notice that random forest is performing worse than Linear regression and it has been overfitting the data__\n",
    "\n",
    "-----------------------------------------------------------------------------------------------------------------------------\n",
    "### a) Now we will focus on fine tuning the random forest model by tweaking the hyper parameters using Grid Search that essentially evalutes all the values of the hyperparameter values, using cross validation.\n",
    "\n",
    "### b) Cross validation is a technique of validating our model so that it becomes generalizable. It involves dividing the training set into subsets and validation sets and then checking the accuracy amongst these sets without touching the test set. We will be using K-Fold Cross Validation wherein the training data set is divided into k subsets."
   ]
  },
  {
   "cell_type": "code",
   "execution_count": 46,
   "metadata": {},
   "outputs": [
    {
     "data": {
      "text/plain": [
       "GridSearchCV(cv=5, estimator=RandomForestRegressor(random_state=42),\n",
       "             param_grid=[{'max_features': [2, 4, 6, 8, 10],\n",
       "                          'n_estimators': [3, 10, 30, 40]},\n",
       "                         {'bootstrap': [False], 'max_features': [2, 3, 4],\n",
       "                          'n_estimators': [3, 10]}],\n",
       "             return_train_score=True, scoring='r2')"
      ]
     },
     "execution_count": 46,
     "metadata": {},
     "output_type": "execute_result"
    }
   ],
   "source": [
    "param_grid = [\n",
    "    # try 12 (3×4) combinations of hyperparameters\n",
    "    {'n_estimators': [3, 10, 30,40], 'max_features': [2, 4, 6, 8,10]},\n",
    "    # then try 6 (2×3) combinations with bootstrap set as False\n",
    "    {'bootstrap': [False], 'n_estimators': [3, 10], 'max_features': [2, 3, 4]},\n",
    "  ]\n",
    "\n",
    "forest_reg = RandomForestRegressor(random_state=42)\n",
    "\n",
    "grid_search = GridSearchCV(forest_reg, param_grid, cv=5,\n",
    "                           scoring='r2',\n",
    "                           return_train_score=True)\n",
    "\n",
    "grid_search.fit(x_train, y_train)"
   ]
  },
  {
   "cell_type": "code",
   "execution_count": 47,
   "metadata": {},
   "outputs": [
    {
     "data": {
      "text/plain": [
       "{'max_features': 10, 'n_estimators': 40}"
      ]
     },
     "execution_count": 47,
     "metadata": {},
     "output_type": "execute_result"
    }
   ],
   "source": [
    "grid_search.best_params_"
   ]
  },
  {
   "cell_type": "code",
   "execution_count": 50,
   "metadata": {},
   "outputs": [
    {
     "name": "stdout",
     "output_type": "stream",
     "text": [
      "0.04004525351571597 {'max_features': 2, 'n_estimators': 3}\n",
      "0.15038587777283882 {'max_features': 2, 'n_estimators': 10}\n",
      "0.18408111359492418 {'max_features': 2, 'n_estimators': 30}\n",
      "0.18720998003755918 {'max_features': 2, 'n_estimators': 40}\n",
      "0.03861003631192459 {'max_features': 4, 'n_estimators': 3}\n",
      "0.15322396016643738 {'max_features': 4, 'n_estimators': 10}\n",
      "0.18564096096797172 {'max_features': 4, 'n_estimators': 30}\n",
      "0.18857092469970507 {'max_features': 4, 'n_estimators': 40}\n",
      "0.043403575679342235 {'max_features': 6, 'n_estimators': 3}\n",
      "0.16227941431983875 {'max_features': 6, 'n_estimators': 10}\n",
      "0.19613895280275245 {'max_features': 6, 'n_estimators': 30}\n",
      "0.19916831252381212 {'max_features': 6, 'n_estimators': 40}\n",
      "0.0479882742394991 {'max_features': 8, 'n_estimators': 3}\n",
      "0.1714196542525188 {'max_features': 8, 'n_estimators': 10}\n",
      "0.20679526637177545 {'max_features': 8, 'n_estimators': 30}\n",
      "0.2105056742240996 {'max_features': 8, 'n_estimators': 40}\n",
      "0.04477224524419654 {'max_features': 10, 'n_estimators': 3}\n",
      "0.17581629016365052 {'max_features': 10, 'n_estimators': 10}\n",
      "0.21378633096427677 {'max_features': 10, 'n_estimators': 30}\n",
      "0.21822853526913893 {'max_features': 10, 'n_estimators': 40}\n",
      "-0.09616497070790904 {'bootstrap': False, 'max_features': 2, 'n_estimators': 3}\n",
      "-0.026246365670159123 {'bootstrap': False, 'max_features': 2, 'n_estimators': 10}\n",
      "-0.092112200087023 {'bootstrap': False, 'max_features': 3, 'n_estimators': 3}\n",
      "-0.0305583180756547 {'bootstrap': False, 'max_features': 3, 'n_estimators': 10}\n",
      "-0.09495139710670966 {'bootstrap': False, 'max_features': 4, 'n_estimators': 3}\n",
      "-0.02894815443590528 {'bootstrap': False, 'max_features': 4, 'n_estimators': 10}\n"
     ]
    }
   ],
   "source": [
    "cvres = grid_search.cv_results_\n",
    "for r2, params in zip(cvres[\"mean_test_score\"], cvres[\"params\"]):\n",
    "    print(r2, params)"
   ]
  },
  {
   "cell_type": "markdown",
   "metadata": {},
   "source": [
    "__Hence we saw that tuning the parameter did not help. So, we focus on correcting the Underfitting by adding in more polynomial features.__"
   ]
  },
  {
   "cell_type": "code",
   "execution_count": 70,
   "metadata": {},
   "outputs": [],
   "source": [
    "pf = PolynomialFeatures(degree=3) #We formulate an instance and then fit it\n",
    "x_train_pf = pd.DataFrame(pf.fit_transform(x_train))\n",
    "x_test_pf = pd.DataFrame(pf.transform(x_valid))"
   ]
  },
  {
   "cell_type": "code",
   "execution_count": 71,
   "metadata": {},
   "outputs": [],
   "source": [
    "lr.fit(x_train_pf,y_train)\n",
    "pred = lr.predict(x_test_pf)"
   ]
  },
  {
   "cell_type": "code",
   "execution_count": 72,
   "metadata": {},
   "outputs": [
    {
     "data": {
      "text/plain": [
       "0.2881184256622612"
      ]
     },
     "execution_count": 72,
     "metadata": {},
     "output_type": "execute_result"
    }
   ],
   "source": [
    "r2_score(y_valid,pred)"
   ]
  },
  {
   "cell_type": "markdown",
   "metadata": {},
   "source": [
    "__Hence after adding the polynomial features we were able to improve the accuracy but not as much as we would have intended__\n",
    "\n",
    "### So, now we try our last model which is known as the Light Gradient Boosted Machine, or LightGBM. It extends the gradient boosting algorithm by adding a type of automatic feature selection as well as focusing on boosting examples with larger gradients"
   ]
  },
  {
   "cell_type": "code",
   "execution_count": 54,
   "metadata": {},
   "outputs": [],
   "source": [
    "import lightgbm as lgb\n",
    "model = lgb.LGBMRegressor()\n",
    "cv = RepeatedKFold(n_splits=10, n_repeats=3, random_state=1)"
   ]
  },
  {
   "cell_type": "markdown",
   "metadata": {},
   "source": [
    ">We work on our **x_data** without worrying about the splits as we shall be using **cross validation** scores to check the accuracy of LightGBM. Cross validation is effective as it does not shrink our training data which might help the model in the learning."
   ]
  },
  {
   "cell_type": "code",
   "execution_count": 56,
   "metadata": {},
   "outputs": [
    {
     "data": {
      "text/html": [
       "<div>\n",
       "<style scoped>\n",
       "    .dataframe tbody tr th:only-of-type {\n",
       "        vertical-align: middle;\n",
       "    }\n",
       "\n",
       "    .dataframe tbody tr th {\n",
       "        vertical-align: top;\n",
       "    }\n",
       "\n",
       "    .dataframe thead th {\n",
       "        text-align: right;\n",
       "    }\n",
       "</style>\n",
       "<table border=\"1\" class=\"dataframe\">\n",
       "  <thead>\n",
       "    <tr style=\"text-align: right;\">\n",
       "      <th></th>\n",
       "      <th>category_id</th>\n",
       "      <th>age</th>\n",
       "      <th>followers</th>\n",
       "      <th>views</th>\n",
       "      <th>viewsPerFollower</th>\n",
       "      <th>gender_0</th>\n",
       "      <th>gender_1</th>\n",
       "      <th>profession_0</th>\n",
       "      <th>profession_1</th>\n",
       "      <th>profession_2</th>\n",
       "    </tr>\n",
       "  </thead>\n",
       "  <tbody>\n",
       "    <tr>\n",
       "      <th>0</th>\n",
       "      <td>37</td>\n",
       "      <td>3.218876</td>\n",
       "      <td>180</td>\n",
       "      <td>1000</td>\n",
       "      <td>5.555556</td>\n",
       "      <td>0.0</td>\n",
       "      <td>1.0</td>\n",
       "      <td>0.0</td>\n",
       "      <td>1.0</td>\n",
       "      <td>0.0</td>\n",
       "    </tr>\n",
       "    <tr>\n",
       "      <th>1</th>\n",
       "      <td>32</td>\n",
       "      <td>2.708050</td>\n",
       "      <td>330</td>\n",
       "      <td>714</td>\n",
       "      <td>2.163636</td>\n",
       "      <td>1.0</td>\n",
       "      <td>0.0</td>\n",
       "      <td>0.0</td>\n",
       "      <td>1.0</td>\n",
       "      <td>0.0</td>\n",
       "    </tr>\n",
       "    <tr>\n",
       "      <th>2</th>\n",
       "      <td>12</td>\n",
       "      <td>2.995732</td>\n",
       "      <td>180</td>\n",
       "      <td>138</td>\n",
       "      <td>0.766667</td>\n",
       "      <td>0.0</td>\n",
       "      <td>1.0</td>\n",
       "      <td>0.0</td>\n",
       "      <td>1.0</td>\n",
       "      <td>0.0</td>\n",
       "    </tr>\n",
       "    <tr>\n",
       "      <th>3</th>\n",
       "      <td>23</td>\n",
       "      <td>2.995732</td>\n",
       "      <td>220</td>\n",
       "      <td>613</td>\n",
       "      <td>2.786364</td>\n",
       "      <td>0.0</td>\n",
       "      <td>1.0</td>\n",
       "      <td>0.0</td>\n",
       "      <td>1.0</td>\n",
       "      <td>0.0</td>\n",
       "    </tr>\n",
       "    <tr>\n",
       "      <th>4</th>\n",
       "      <td>23</td>\n",
       "      <td>3.332205</td>\n",
       "      <td>220</td>\n",
       "      <td>613</td>\n",
       "      <td>2.786364</td>\n",
       "      <td>0.0</td>\n",
       "      <td>1.0</td>\n",
       "      <td>0.0</td>\n",
       "      <td>0.0</td>\n",
       "      <td>1.0</td>\n",
       "    </tr>\n",
       "  </tbody>\n",
       "</table>\n",
       "</div>"
      ],
      "text/plain": [
       "   category_id       age  followers  views  viewsPerFollower  gender_0  \\\n",
       "0           37  3.218876        180   1000          5.555556       0.0   \n",
       "1           32  2.708050        330    714          2.163636       1.0   \n",
       "2           12  2.995732        180    138          0.766667       0.0   \n",
       "3           23  2.995732        220    613          2.786364       0.0   \n",
       "4           23  3.332205        220    613          2.786364       0.0   \n",
       "\n",
       "   gender_1  profession_0  profession_1  profession_2  \n",
       "0       1.0           0.0           1.0           0.0  \n",
       "1       0.0           0.0           1.0           0.0  \n",
       "2       1.0           0.0           1.0           0.0  \n",
       "3       1.0           0.0           1.0           0.0  \n",
       "4       1.0           0.0           0.0           1.0  "
      ]
     },
     "execution_count": 56,
     "metadata": {},
     "output_type": "execute_result"
    }
   ],
   "source": [
    "## We first remove the row_id from the data set as it seems of no use \n",
    "# x_data = x_data.drop(columns = ['row_id'],axis=1)\n",
    "x_data.head() #Removed the same"
   ]
  },
  {
   "cell_type": "code",
   "execution_count": 57,
   "metadata": {},
   "outputs": [],
   "source": [
    "n_scores = cross_val_score(model,x_data,y, scoring='r2', cv=cv, n_jobs=-1, error_score='raise')"
   ]
  },
  {
   "cell_type": "code",
   "execution_count": 58,
   "metadata": {},
   "outputs": [
    {
     "data": {
      "text/plain": [
       "0.3520021007340574"
      ]
     },
     "execution_count": 58,
     "metadata": {},
     "output_type": "execute_result"
    }
   ],
   "source": [
    "n_scores.mean()"
   ]
  },
  {
   "cell_type": "markdown",
   "metadata": {},
   "source": [
    "### Hence we see that we would be able to increase the score with LightGBM as the average scores come out to be 35.21. Let us see if adding polynomial features would help.\n",
    "\n",
    "### Further we see that there is a slight improvement with addition of polynomial features."
   ]
  },
  {
   "cell_type": "code",
   "execution_count": 45,
   "metadata": {},
   "outputs": [],
   "source": [
    "#Transforming our x_data\n",
    "pf = PolynomialFeatures(degree=3) #We formulate an instance and then fit it\n",
    "x_data_pf = pf.fit_transform(x_data)"
   ]
  },
  {
   "cell_type": "code",
   "execution_count": 46,
   "metadata": {},
   "outputs": [
    {
     "data": {
      "text/plain": [
       "0.35284437541915903"
      ]
     },
     "execution_count": 46,
     "metadata": {},
     "output_type": "execute_result"
    }
   ],
   "source": [
    "n_scores_pf = cross_val_score(model,x_data_pf,y, scoring='r2', cv=cv, n_jobs=-1, error_score='raise')\n",
    "n_scores_pf.mean()"
   ]
  },
  {
   "cell_type": "code",
   "execution_count": null,
   "metadata": {},
   "outputs": [],
   "source": []
  },
  {
   "cell_type": "markdown",
   "metadata": {},
   "source": [
    "### Now we make changes in our test set so that we could train our model on the same. Note that while encoding we will just transform as we have already fitted the training set"
   ]
  },
  {
   "cell_type": "code",
   "execution_count": 47,
   "metadata": {},
   "outputs": [
    {
     "data": {
      "text/html": [
       "<div>\n",
       "<style scoped>\n",
       "    .dataframe tbody tr th:only-of-type {\n",
       "        vertical-align: middle;\n",
       "    }\n",
       "\n",
       "    .dataframe tbody tr th {\n",
       "        vertical-align: top;\n",
       "    }\n",
       "\n",
       "    .dataframe thead th {\n",
       "        text-align: right;\n",
       "    }\n",
       "</style>\n",
       "<table border=\"1\" class=\"dataframe\">\n",
       "  <thead>\n",
       "    <tr style=\"text-align: right;\">\n",
       "      <th></th>\n",
       "      <th>row_id</th>\n",
       "      <th>user_id</th>\n",
       "      <th>category_id</th>\n",
       "      <th>video_id</th>\n",
       "      <th>age</th>\n",
       "      <th>gender</th>\n",
       "      <th>profession</th>\n",
       "      <th>followers</th>\n",
       "      <th>views</th>\n",
       "      <th>viewsPerFollower</th>\n",
       "    </tr>\n",
       "  </thead>\n",
       "  <tbody>\n",
       "    <tr>\n",
       "      <th>0</th>\n",
       "      <td>89198</td>\n",
       "      <td>7986</td>\n",
       "      <td>12</td>\n",
       "      <td>42</td>\n",
       "      <td>14</td>\n",
       "      <td>Male</td>\n",
       "      <td>Student</td>\n",
       "      <td>180</td>\n",
       "      <td>138</td>\n",
       "      <td>0.766667</td>\n",
       "    </tr>\n",
       "    <tr>\n",
       "      <th>1</th>\n",
       "      <td>89199</td>\n",
       "      <td>11278</td>\n",
       "      <td>34</td>\n",
       "      <td>115</td>\n",
       "      <td>14</td>\n",
       "      <td>Male</td>\n",
       "      <td>Student</td>\n",
       "      <td>230</td>\n",
       "      <td>840</td>\n",
       "      <td>3.652174</td>\n",
       "    </tr>\n",
       "    <tr>\n",
       "      <th>2</th>\n",
       "      <td>89200</td>\n",
       "      <td>17245</td>\n",
       "      <td>8</td>\n",
       "      <td>110</td>\n",
       "      <td>44</td>\n",
       "      <td>Female</td>\n",
       "      <td>Working Professional</td>\n",
       "      <td>280</td>\n",
       "      <td>628</td>\n",
       "      <td>2.242857</td>\n",
       "    </tr>\n",
       "    <tr>\n",
       "      <th>3</th>\n",
       "      <td>89201</td>\n",
       "      <td>9851</td>\n",
       "      <td>16</td>\n",
       "      <td>137</td>\n",
       "      <td>18</td>\n",
       "      <td>Male</td>\n",
       "      <td>Student</td>\n",
       "      <td>270</td>\n",
       "      <td>462</td>\n",
       "      <td>1.711111</td>\n",
       "    </tr>\n",
       "    <tr>\n",
       "      <th>4</th>\n",
       "      <td>89202</td>\n",
       "      <td>16008</td>\n",
       "      <td>34</td>\n",
       "      <td>96</td>\n",
       "      <td>47</td>\n",
       "      <td>Female</td>\n",
       "      <td>Other</td>\n",
       "      <td>230</td>\n",
       "      <td>840</td>\n",
       "      <td>3.652174</td>\n",
       "    </tr>\n",
       "  </tbody>\n",
       "</table>\n",
       "</div>"
      ],
      "text/plain": [
       "   row_id  user_id  category_id  video_id  age  gender            profession  \\\n",
       "0   89198     7986           12        42   14    Male               Student   \n",
       "1   89199    11278           34       115   14    Male               Student   \n",
       "2   89200    17245            8       110   44  Female  Working Professional   \n",
       "3   89201     9851           16       137   18    Male               Student   \n",
       "4   89202    16008           34        96   47  Female                 Other   \n",
       "\n",
       "   followers  views  viewsPerFollower  \n",
       "0        180    138          0.766667  \n",
       "1        230    840          3.652174  \n",
       "2        280    628          2.242857  \n",
       "3        270    462          1.711111  \n",
       "4        230    840          3.652174  "
      ]
     },
     "execution_count": 47,
     "metadata": {},
     "output_type": "execute_result"
    }
   ],
   "source": [
    "test.head()"
   ]
  },
  {
   "cell_type": "code",
   "execution_count": 49,
   "metadata": {},
   "outputs": [
    {
     "data": {
      "text/html": [
       "<div>\n",
       "<style scoped>\n",
       "    .dataframe tbody tr th:only-of-type {\n",
       "        vertical-align: middle;\n",
       "    }\n",
       "\n",
       "    .dataframe tbody tr th {\n",
       "        vertical-align: top;\n",
       "    }\n",
       "\n",
       "    .dataframe thead th {\n",
       "        text-align: right;\n",
       "    }\n",
       "</style>\n",
       "<table border=\"1\" class=\"dataframe\">\n",
       "  <thead>\n",
       "    <tr style=\"text-align: right;\">\n",
       "      <th></th>\n",
       "      <th>row_id</th>\n",
       "      <th>user_id</th>\n",
       "      <th>category_id</th>\n",
       "      <th>video_id</th>\n",
       "      <th>age</th>\n",
       "      <th>followers</th>\n",
       "      <th>views</th>\n",
       "      <th>viewsPerFollower</th>\n",
       "      <th>gender_0</th>\n",
       "      <th>gender_1</th>\n",
       "      <th>profession_0</th>\n",
       "      <th>profession_1</th>\n",
       "      <th>profession_2</th>\n",
       "    </tr>\n",
       "  </thead>\n",
       "  <tbody>\n",
       "    <tr>\n",
       "      <th>0</th>\n",
       "      <td>89198</td>\n",
       "      <td>7986</td>\n",
       "      <td>12</td>\n",
       "      <td>42</td>\n",
       "      <td>14</td>\n",
       "      <td>180</td>\n",
       "      <td>138</td>\n",
       "      <td>0.766667</td>\n",
       "      <td>0.0</td>\n",
       "      <td>1.0</td>\n",
       "      <td>0.0</td>\n",
       "      <td>1.0</td>\n",
       "      <td>0.0</td>\n",
       "    </tr>\n",
       "    <tr>\n",
       "      <th>1</th>\n",
       "      <td>89199</td>\n",
       "      <td>11278</td>\n",
       "      <td>34</td>\n",
       "      <td>115</td>\n",
       "      <td>14</td>\n",
       "      <td>230</td>\n",
       "      <td>840</td>\n",
       "      <td>3.652174</td>\n",
       "      <td>0.0</td>\n",
       "      <td>1.0</td>\n",
       "      <td>0.0</td>\n",
       "      <td>1.0</td>\n",
       "      <td>0.0</td>\n",
       "    </tr>\n",
       "    <tr>\n",
       "      <th>2</th>\n",
       "      <td>89200</td>\n",
       "      <td>17245</td>\n",
       "      <td>8</td>\n",
       "      <td>110</td>\n",
       "      <td>44</td>\n",
       "      <td>280</td>\n",
       "      <td>628</td>\n",
       "      <td>2.242857</td>\n",
       "      <td>1.0</td>\n",
       "      <td>0.0</td>\n",
       "      <td>0.0</td>\n",
       "      <td>0.0</td>\n",
       "      <td>1.0</td>\n",
       "    </tr>\n",
       "    <tr>\n",
       "      <th>3</th>\n",
       "      <td>89201</td>\n",
       "      <td>9851</td>\n",
       "      <td>16</td>\n",
       "      <td>137</td>\n",
       "      <td>18</td>\n",
       "      <td>270</td>\n",
       "      <td>462</td>\n",
       "      <td>1.711111</td>\n",
       "      <td>0.0</td>\n",
       "      <td>1.0</td>\n",
       "      <td>0.0</td>\n",
       "      <td>1.0</td>\n",
       "      <td>0.0</td>\n",
       "    </tr>\n",
       "    <tr>\n",
       "      <th>4</th>\n",
       "      <td>89202</td>\n",
       "      <td>16008</td>\n",
       "      <td>34</td>\n",
       "      <td>96</td>\n",
       "      <td>47</td>\n",
       "      <td>230</td>\n",
       "      <td>840</td>\n",
       "      <td>3.652174</td>\n",
       "      <td>1.0</td>\n",
       "      <td>0.0</td>\n",
       "      <td>1.0</td>\n",
       "      <td>0.0</td>\n",
       "      <td>0.0</td>\n",
       "    </tr>\n",
       "  </tbody>\n",
       "</table>\n",
       "</div>"
      ],
      "text/plain": [
       "   row_id  user_id  category_id  video_id  age  followers  views  \\\n",
       "0   89198     7986           12        42   14        180    138   \n",
       "1   89199    11278           34       115   14        230    840   \n",
       "2   89200    17245            8       110   44        280    628   \n",
       "3   89201     9851           16       137   18        270    462   \n",
       "4   89202    16008           34        96   47        230    840   \n",
       "\n",
       "   viewsPerFollower  gender_0  gender_1  profession_0  profession_1  \\\n",
       "0          0.766667       0.0       1.0           0.0           1.0   \n",
       "1          3.652174       0.0       1.0           0.0           1.0   \n",
       "2          2.242857       1.0       0.0           0.0           0.0   \n",
       "3          1.711111       0.0       1.0           0.0           1.0   \n",
       "4          3.652174       1.0       0.0           1.0           0.0   \n",
       "\n",
       "   profession_2  \n",
       "0           0.0  \n",
       "1           0.0  \n",
       "2           1.0  \n",
       "3           0.0  \n",
       "4           0.0  "
      ]
     },
     "execution_count": 49,
     "metadata": {},
     "output_type": "execute_result"
    }
   ],
   "source": [
    "final_test.head()"
   ]
  },
  {
   "cell_type": "code",
   "execution_count": 50,
   "metadata": {},
   "outputs": [
    {
     "data": {
      "text/html": [
       "<div>\n",
       "<style scoped>\n",
       "    .dataframe tbody tr th:only-of-type {\n",
       "        vertical-align: middle;\n",
       "    }\n",
       "\n",
       "    .dataframe tbody tr th {\n",
       "        vertical-align: top;\n",
       "    }\n",
       "\n",
       "    .dataframe thead th {\n",
       "        text-align: right;\n",
       "    }\n",
       "</style>\n",
       "<table border=\"1\" class=\"dataframe\">\n",
       "  <thead>\n",
       "    <tr style=\"text-align: right;\">\n",
       "      <th></th>\n",
       "      <th>row_id</th>\n",
       "      <th>user_id</th>\n",
       "      <th>category_id</th>\n",
       "      <th>video_id</th>\n",
       "      <th>age</th>\n",
       "      <th>followers</th>\n",
       "      <th>views</th>\n",
       "      <th>viewsPerFollower</th>\n",
       "      <th>gender_0</th>\n",
       "      <th>gender_1</th>\n",
       "      <th>profession_0</th>\n",
       "      <th>profession_1</th>\n",
       "      <th>profession_2</th>\n",
       "    </tr>\n",
       "  </thead>\n",
       "  <tbody>\n",
       "    <tr>\n",
       "      <th>0</th>\n",
       "      <td>89198</td>\n",
       "      <td>7986</td>\n",
       "      <td>12</td>\n",
       "      <td>42</td>\n",
       "      <td>2.708050</td>\n",
       "      <td>180</td>\n",
       "      <td>138</td>\n",
       "      <td>0.766667</td>\n",
       "      <td>0.0</td>\n",
       "      <td>1.0</td>\n",
       "      <td>0.0</td>\n",
       "      <td>1.0</td>\n",
       "      <td>0.0</td>\n",
       "    </tr>\n",
       "    <tr>\n",
       "      <th>1</th>\n",
       "      <td>89199</td>\n",
       "      <td>11278</td>\n",
       "      <td>34</td>\n",
       "      <td>115</td>\n",
       "      <td>2.708050</td>\n",
       "      <td>230</td>\n",
       "      <td>840</td>\n",
       "      <td>3.652174</td>\n",
       "      <td>0.0</td>\n",
       "      <td>1.0</td>\n",
       "      <td>0.0</td>\n",
       "      <td>1.0</td>\n",
       "      <td>0.0</td>\n",
       "    </tr>\n",
       "    <tr>\n",
       "      <th>2</th>\n",
       "      <td>89200</td>\n",
       "      <td>17245</td>\n",
       "      <td>8</td>\n",
       "      <td>110</td>\n",
       "      <td>3.806662</td>\n",
       "      <td>280</td>\n",
       "      <td>628</td>\n",
       "      <td>2.242857</td>\n",
       "      <td>1.0</td>\n",
       "      <td>0.0</td>\n",
       "      <td>0.0</td>\n",
       "      <td>0.0</td>\n",
       "      <td>1.0</td>\n",
       "    </tr>\n",
       "    <tr>\n",
       "      <th>3</th>\n",
       "      <td>89201</td>\n",
       "      <td>9851</td>\n",
       "      <td>16</td>\n",
       "      <td>137</td>\n",
       "      <td>2.944439</td>\n",
       "      <td>270</td>\n",
       "      <td>462</td>\n",
       "      <td>1.711111</td>\n",
       "      <td>0.0</td>\n",
       "      <td>1.0</td>\n",
       "      <td>0.0</td>\n",
       "      <td>1.0</td>\n",
       "      <td>0.0</td>\n",
       "    </tr>\n",
       "    <tr>\n",
       "      <th>4</th>\n",
       "      <td>89202</td>\n",
       "      <td>16008</td>\n",
       "      <td>34</td>\n",
       "      <td>96</td>\n",
       "      <td>3.871201</td>\n",
       "      <td>230</td>\n",
       "      <td>840</td>\n",
       "      <td>3.652174</td>\n",
       "      <td>1.0</td>\n",
       "      <td>0.0</td>\n",
       "      <td>1.0</td>\n",
       "      <td>0.0</td>\n",
       "      <td>0.0</td>\n",
       "    </tr>\n",
       "  </tbody>\n",
       "</table>\n",
       "</div>"
      ],
      "text/plain": [
       "   row_id  user_id  category_id  video_id       age  followers  views  \\\n",
       "0   89198     7986           12        42  2.708050        180    138   \n",
       "1   89199    11278           34       115  2.708050        230    840   \n",
       "2   89200    17245            8       110  3.806662        280    628   \n",
       "3   89201     9851           16       137  2.944439        270    462   \n",
       "4   89202    16008           34        96  3.871201        230    840   \n",
       "\n",
       "   viewsPerFollower  gender_0  gender_1  profession_0  profession_1  \\\n",
       "0          0.766667       0.0       1.0           0.0           1.0   \n",
       "1          3.652174       0.0       1.0           0.0           1.0   \n",
       "2          2.242857       1.0       0.0           0.0           0.0   \n",
       "3          1.711111       0.0       1.0           0.0           1.0   \n",
       "4          3.652174       1.0       0.0           1.0           0.0   \n",
       "\n",
       "   profession_2  \n",
       "0           0.0  \n",
       "1           0.0  \n",
       "2           1.0  \n",
       "3           0.0  \n",
       "4           0.0  "
      ]
     },
     "execution_count": 50,
     "metadata": {},
     "output_type": "execute_result"
    }
   ],
   "source": [
    "final_test['age']=final_test.age.apply(lambda x:np.log1p(x))\n",
    "final_test.head()"
   ]
  },
  {
   "cell_type": "code",
   "execution_count": 51,
   "metadata": {},
   "outputs": [],
   "source": [
    "##We remove some columns\n",
    "final_test.drop(['row_id','user_id','video_id'],axis=1,inplace=True)"
   ]
  },
  {
   "cell_type": "code",
   "execution_count": 52,
   "metadata": {},
   "outputs": [
    {
     "data": {
      "text/html": [
       "<div>\n",
       "<style scoped>\n",
       "    .dataframe tbody tr th:only-of-type {\n",
       "        vertical-align: middle;\n",
       "    }\n",
       "\n",
       "    .dataframe tbody tr th {\n",
       "        vertical-align: top;\n",
       "    }\n",
       "\n",
       "    .dataframe thead th {\n",
       "        text-align: right;\n",
       "    }\n",
       "</style>\n",
       "<table border=\"1\" class=\"dataframe\">\n",
       "  <thead>\n",
       "    <tr style=\"text-align: right;\">\n",
       "      <th></th>\n",
       "      <th>category_id</th>\n",
       "      <th>age</th>\n",
       "      <th>followers</th>\n",
       "      <th>views</th>\n",
       "      <th>viewsPerFollower</th>\n",
       "      <th>gender_0</th>\n",
       "      <th>gender_1</th>\n",
       "      <th>profession_0</th>\n",
       "      <th>profession_1</th>\n",
       "      <th>profession_2</th>\n",
       "    </tr>\n",
       "  </thead>\n",
       "  <tbody>\n",
       "    <tr>\n",
       "      <th>0</th>\n",
       "      <td>12</td>\n",
       "      <td>2.708050</td>\n",
       "      <td>180</td>\n",
       "      <td>138</td>\n",
       "      <td>0.766667</td>\n",
       "      <td>0.0</td>\n",
       "      <td>1.0</td>\n",
       "      <td>0.0</td>\n",
       "      <td>1.0</td>\n",
       "      <td>0.0</td>\n",
       "    </tr>\n",
       "    <tr>\n",
       "      <th>1</th>\n",
       "      <td>34</td>\n",
       "      <td>2.708050</td>\n",
       "      <td>230</td>\n",
       "      <td>840</td>\n",
       "      <td>3.652174</td>\n",
       "      <td>0.0</td>\n",
       "      <td>1.0</td>\n",
       "      <td>0.0</td>\n",
       "      <td>1.0</td>\n",
       "      <td>0.0</td>\n",
       "    </tr>\n",
       "    <tr>\n",
       "      <th>2</th>\n",
       "      <td>8</td>\n",
       "      <td>3.806662</td>\n",
       "      <td>280</td>\n",
       "      <td>628</td>\n",
       "      <td>2.242857</td>\n",
       "      <td>1.0</td>\n",
       "      <td>0.0</td>\n",
       "      <td>0.0</td>\n",
       "      <td>0.0</td>\n",
       "      <td>1.0</td>\n",
       "    </tr>\n",
       "    <tr>\n",
       "      <th>3</th>\n",
       "      <td>16</td>\n",
       "      <td>2.944439</td>\n",
       "      <td>270</td>\n",
       "      <td>462</td>\n",
       "      <td>1.711111</td>\n",
       "      <td>0.0</td>\n",
       "      <td>1.0</td>\n",
       "      <td>0.0</td>\n",
       "      <td>1.0</td>\n",
       "      <td>0.0</td>\n",
       "    </tr>\n",
       "    <tr>\n",
       "      <th>4</th>\n",
       "      <td>34</td>\n",
       "      <td>3.871201</td>\n",
       "      <td>230</td>\n",
       "      <td>840</td>\n",
       "      <td>3.652174</td>\n",
       "      <td>1.0</td>\n",
       "      <td>0.0</td>\n",
       "      <td>1.0</td>\n",
       "      <td>0.0</td>\n",
       "      <td>0.0</td>\n",
       "    </tr>\n",
       "  </tbody>\n",
       "</table>\n",
       "</div>"
      ],
      "text/plain": [
       "   category_id       age  followers  views  viewsPerFollower  gender_0  \\\n",
       "0           12  2.708050        180    138          0.766667       0.0   \n",
       "1           34  2.708050        230    840          3.652174       0.0   \n",
       "2            8  3.806662        280    628          2.242857       1.0   \n",
       "3           16  2.944439        270    462          1.711111       0.0   \n",
       "4           34  3.871201        230    840          3.652174       1.0   \n",
       "\n",
       "   gender_1  profession_0  profession_1  profession_2  \n",
       "0       1.0           0.0           1.0           0.0  \n",
       "1       1.0           0.0           1.0           0.0  \n",
       "2       0.0           0.0           0.0           1.0  \n",
       "3       1.0           0.0           1.0           0.0  \n",
       "4       0.0           1.0           0.0           0.0  "
      ]
     },
     "execution_count": 52,
     "metadata": {},
     "output_type": "execute_result"
    }
   ],
   "source": [
    "final_test.head()"
   ]
  },
  {
   "cell_type": "code",
   "execution_count": 62,
   "metadata": {},
   "outputs": [],
   "source": [
    "final_test_pf = pf.transform(final_test)"
   ]
  },
  {
   "cell_type": "code",
   "execution_count": 65,
   "metadata": {},
   "outputs": [],
   "source": [
    "submission = pd.read_csv('sample_submission.csv')\n",
    "model.fit(x_data_pf,y)\n",
    "final_pred = model.predict(final_test_pf)\n",
    "submission['Engagement_Score_predicted'] = final_pred"
   ]
  },
  {
   "cell_type": "code",
   "execution_count": 68,
   "metadata": {},
   "outputs": [],
   "source": [
    "submission.to_csv('my_submission.csv', index=False)"
   ]
  },
  {
   "cell_type": "code",
   "execution_count": 81,
   "metadata": {},
   "outputs": [],
   "source": [
    "final_pred_2 = lr.predict(final_test_pf)\n",
    "submission['engagement_score'] = final_pred_2"
   ]
  },
  {
   "cell_type": "markdown",
   "metadata": {},
   "source": [
    "### The actual solution tracker is showing better prediction accuracy for linear regression so have chosen the same though there is not much difference between LGBM and Linear Regression."
   ]
  },
  {
   "cell_type": "code",
   "execution_count": 82,
   "metadata": {},
   "outputs": [],
   "source": [
    "submission.to_csv('my_second_submission.csv', index=False)"
   ]
  },
  {
   "cell_type": "code",
   "execution_count": 80,
   "metadata": {},
   "outputs": [
    {
     "data": {
      "text/plain": [
       "LinearRegression()"
      ]
     },
     "execution_count": 80,
     "metadata": {},
     "output_type": "execute_result"
    }
   ],
   "source": [
    "lr.fit(x_data_pf,y)\n",
    "lr.predict()"
   ]
  },
  {
   "cell_type": "code",
   "execution_count": null,
   "metadata": {},
   "outputs": [],
   "source": []
  },
  {
   "cell_type": "code",
   "execution_count": null,
   "metadata": {},
   "outputs": [],
   "source": []
  }
 ],
 "metadata": {
  "kernelspec": {
   "display_name": "Python 3",
   "language": "python",
   "name": "python3"
  },
  "language_info": {
   "codemirror_mode": {
    "name": "ipython",
    "version": 3
   },
   "file_extension": ".py",
   "mimetype": "text/x-python",
   "name": "python",
   "nbconvert_exporter": "python",
   "pygments_lexer": "ipython3",
   "version": "3.8.0"
  }
 },
 "nbformat": 4,
 "nbformat_minor": 4
}
